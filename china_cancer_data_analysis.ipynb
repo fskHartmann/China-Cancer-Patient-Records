{
 "cells": [
  {
   "cell_type": "markdown",
   "id": "c7ef0e7a",
   "metadata": {},
   "source": [
    "# China Cancer Patient Records - Data Analysis\n",
    "\n",
    "This notebook analyzes the China cancer patient synthetic dataset. We'll load the data, explore its structure, and perform initial data analysis.\n",
    "\n",
    "**Dataset Source:** Kaggle - China Cancer Patient Records\n",
    "**File:** china_cancer_patients_synthetic.csv"
   ]
  },
  {
   "cell_type": "markdown",
   "id": "a56129bf",
   "metadata": {},
   "source": [
    "## 1. Import Required Libraries\n",
    "\n",
    "Import pandas and other necessary libraries for data analysis and visualization."
   ]
  },
  {
   "cell_type": "code",
   "execution_count": null,
   "id": "6e7c007f",
   "metadata": {},
   "outputs": [],
   "source": [
    "# Import Required Libraries\n",
    "import pandas as pd\n",
    "import numpy as np\n",
    "import matplotlib.pyplot as plt\n",
    "import seaborn as sns\n",
    "\n",
    "# Set display options\n",
    "pd.set_option('display.max_columns', None)\n",
    "pd.set_option('display.width', None)\n",
    "\n",
    "# Set style for plots\n",
    "plt.style.use('default')\n",
    "sns.set_palette(\"husl\")\n",
    "\n",
    "print(\"Libraries imported successfully!\")"
   ]
  },
  {
   "cell_type": "markdown",
   "id": "75170e01",
   "metadata": {},
   "source": [
    "## 2. Define File Path\n",
    "\n",
    "Specify the file path for the CSV file containing the China cancer patient data."
   ]
  },
  {
   "cell_type": "code",
   "execution_count": null,
   "id": "0c47c89f",
   "metadata": {},
   "outputs": [],
   "source": [
    "# Define the path to the dataset\n",
    "data_path = \"/Users/f/.cache/kagglehub/datasets/ak0212/china-cancer-patient-records/versions/1/china_cancer_patients_synthetic.csv\"\n",
    "\n",
    "print(f\"Data path: {data_path}\")"
   ]
  },
  {
   "cell_type": "markdown",
   "id": "0d329c6d",
   "metadata": {},
   "source": [
    "## 3. Read CSV File\n",
    "\n",
    "Load the cancer patient data into a pandas DataFrame for analysis."
   ]
  },
  {
   "cell_type": "code",
   "execution_count": null,
   "id": "4f26c4c6",
   "metadata": {},
   "outputs": [],
   "source": [
    "# Read the CSV file into a DataFrame\n",
    "df = pd.read_csv(data_path)\n",
    "\n",
    "print(f\"Dataset loaded successfully!\")\n",
    "print(f\"Shape of the dataset: {df.shape}\")\n",
    "print(f\"Number of rows: {df.shape[0]}\")\n",
    "print(f\"Number of columns: {df.shape[1]}\")"
   ]
  },
  {
   "cell_type": "markdown",
   "id": "4468c610",
   "metadata": {},
   "source": [
    "## 4. Preview Data\n",
    "\n",
    "Display the first few rows and basic information about the dataset."
   ]
  },
  {
   "cell_type": "code",
   "execution_count": null,
   "id": "6de5c819",
   "metadata": {},
   "outputs": [],
   "source": [
    "# Display the first 5 rows of the dataset\n",
    "print(\"First 5 rows of the dataset:\")\n",
    "df.head()"
   ]
  },
  {
   "cell_type": "code",
   "execution_count": null,
   "id": "20b97528",
   "metadata": {},
   "outputs": [],
   "source": [
    "# Display basic information about the dataset\n",
    "print(\"Dataset Information:\")\n",
    "print(\"=\" * 50)\n",
    "df.info()"
   ]
  },
  {
   "cell_type": "code",
   "execution_count": null,
   "id": "76e22a43",
   "metadata": {},
   "outputs": [],
   "source": [
    "# Display column names and their data types\n",
    "print(\"Column names and data types:\")\n",
    "print(\"=\" * 40)\n",
    "for i, (col, dtype) in enumerate(zip(df.columns, df.dtypes), 1):\n",
    "    print(f\"{i:2d}. {col:<25} - {dtype}\")"
   ]
  },
  {
   "cell_type": "code",
   "execution_count": null,
   "id": "b4d53285",
   "metadata": {},
   "outputs": [],
   "source": [
    "# Display descriptive statistics for numerical columns\n",
    "print(\"Descriptive Statistics:\")\n",
    "print(\"=\" * 50)\n",
    "df.describe()"
   ]
  }
 ],
 "metadata": {
  "language_info": {
   "name": "python"
  }
 },
 "nbformat": 4,
 "nbformat_minor": 5
}
